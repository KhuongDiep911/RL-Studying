{
 "cells": [
  {
   "cell_type": "code",
   "execution_count": 2,
   "id": "228d42dd",
   "metadata": {},
   "outputs": [],
   "source": [
    "from array import *"
   ]
  },
  {
   "cell_type": "code",
   "execution_count": 13,
   "id": "fdb2db6a",
   "metadata": {},
   "outputs": [
    {
     "name": "stdout",
     "output_type": "stream",
     "text": [
      "1\n",
      "2\n",
      "3\n",
      "4\n",
      "5\n"
     ]
    }
   ],
   "source": [
    "arr = array('i', [1, 2, 3, 4, 5])\n",
    "\n",
    "for x in arr:\n",
    "    print(x)"
   ]
  },
  {
   "cell_type": "code",
   "execution_count": 14,
   "id": "8b31bff9",
   "metadata": {},
   "outputs": [
    {
     "name": "stdout",
     "output_type": "stream",
     "text": [
      "array('i', [1, 2, 3, 4, 5, 6])\n"
     ]
    }
   ],
   "source": [
    "arr.append(6)\n",
    "print(arr)"
   ]
  },
  {
   "cell_type": "code",
   "execution_count": 15,
   "id": "e5f14bda",
   "metadata": {},
   "outputs": [
    {
     "name": "stdout",
     "output_type": "stream",
     "text": [
      "array('i', [10, 1, 2, 3, 4, 5, 6])\n"
     ]
    }
   ],
   "source": [
    "arr.insert(0, 10)\n",
    "print(arr)"
   ]
  },
  {
   "cell_type": "code",
   "execution_count": 16,
   "id": "eba0d97c",
   "metadata": {},
   "outputs": [
    {
     "name": "stdout",
     "output_type": "stream",
     "text": [
      "array('i', [10, 1, 2, 3, 4, 5, 6, 11, 12, 13])\n"
     ]
    }
   ],
   "source": [
    "arr1 = array('i', [11, 12, 13])\n",
    "arr.extend(arr1)\n",
    "print(arr)"
   ]
  },
  {
   "cell_type": "markdown",
   "id": "cdceb9fe",
   "metadata": {},
   "source": [
    "# Add list to array"
   ]
  },
  {
   "cell_type": "code",
   "execution_count": 18,
   "id": "15d6d24c",
   "metadata": {},
   "outputs": [
    {
     "name": "stdout",
     "output_type": "stream",
     "text": [
      "array('i', [10, 1, 2, 3, 4, 5, 6, 11, 12, 13, 14, 15, 16])\n"
     ]
    }
   ],
   "source": [
    "List = [14, 15, 16]\n",
    "arr.fromlist(List)\n",
    "print(arr)"
   ]
  },
  {
   "cell_type": "markdown",
   "id": "7edcb845",
   "metadata": {},
   "source": [
    "# Remove method"
   ]
  },
  {
   "cell_type": "code",
   "execution_count": 19,
   "id": "365d1811",
   "metadata": {},
   "outputs": [
    {
     "name": "stdout",
     "output_type": "stream",
     "text": [
      "array('i', [10, 1, 2, 3, 4, 5, 6, 11, 12, 14, 15, 16])\n"
     ]
    }
   ],
   "source": [
    "arr.remove(13)\n",
    "print(arr)"
   ]
  },
  {
   "cell_type": "markdown",
   "id": "3c691b37",
   "metadata": {},
   "source": [
    "# Remove last element using pop()"
   ]
  },
  {
   "cell_type": "code",
   "execution_count": 20,
   "id": "a9ab74d6",
   "metadata": {},
   "outputs": [
    {
     "name": "stdout",
     "output_type": "stream",
     "text": [
      "array('i', [10, 1, 2, 3, 4, 5, 6, 11, 12, 14, 15])\n"
     ]
    }
   ],
   "source": [
    "arr.pop()\n",
    "print(arr)"
   ]
  },
  {
   "cell_type": "markdown",
   "id": "e1eb411a",
   "metadata": {},
   "source": [
    "# Fetch an element using index()"
   ]
  },
  {
   "cell_type": "code",
   "execution_count": 21,
   "id": "b38ccfb1",
   "metadata": {},
   "outputs": [
    {
     "name": "stdout",
     "output_type": "stream",
     "text": [
      "1\n"
     ]
    }
   ],
   "source": [
    "print(arr.index(1))"
   ]
  },
  {
   "cell_type": "markdown",
   "id": "c60a3348",
   "metadata": {},
   "source": [
    "# Reverse array"
   ]
  },
  {
   "cell_type": "code",
   "execution_count": 22,
   "id": "af27c3d2",
   "metadata": {},
   "outputs": [
    {
     "name": "stdout",
     "output_type": "stream",
     "text": [
      "array('i', [15, 14, 12, 11, 6, 5, 4, 3, 2, 1, 10])\n"
     ]
    }
   ],
   "source": [
    "arr.reverse()\n",
    "print(arr)"
   ]
  },
  {
   "cell_type": "markdown",
   "id": "485fa0dc",
   "metadata": {},
   "source": [
    "# Get array buffer information"
   ]
  },
  {
   "cell_type": "code",
   "execution_count": 24,
   "id": "db67cd29",
   "metadata": {},
   "outputs": [
    {
     "name": "stdout",
     "output_type": "stream",
     "text": [
      "(1640614180464, 11)\n"
     ]
    }
   ],
   "source": [
    "print(arr.buffer_info())"
   ]
  },
  {
   "cell_type": "markdown",
   "id": "4bb2775b",
   "metadata": {},
   "source": [
    "# Check for number of occurences of an element"
   ]
  },
  {
   "cell_type": "code",
   "execution_count": 25,
   "id": "e4a196fd",
   "metadata": {},
   "outputs": [
    {
     "name": "stdout",
     "output_type": "stream",
     "text": [
      "2\n"
     ]
    }
   ],
   "source": [
    "arr.append(1)\n",
    "print(arr.count(1))"
   ]
  },
  {
   "cell_type": "markdown",
   "id": "c86d8909",
   "metadata": {},
   "source": [
    "# Convert array to string"
   ]
  },
  {
   "cell_type": "code",
   "execution_count": 27,
   "id": "7581a680",
   "metadata": {},
   "outputs": [
    {
     "ename": "AttributeError",
     "evalue": "'array.array' object has no attribute 'toString'",
     "output_type": "error",
     "traceback": [
      "\u001b[1;31m---------------------------------------------------------------------------\u001b[0m",
      "\u001b[1;31mAttributeError\u001b[0m                            Traceback (most recent call last)",
      "\u001b[1;32m~\\AppData\\Local\\Temp/ipykernel_12120/2051555932.py\u001b[0m in \u001b[0;36m<module>\u001b[1;34m\u001b[0m\n\u001b[1;32m----> 1\u001b[1;33m \u001b[0mstr_arr\u001b[0m \u001b[1;33m=\u001b[0m \u001b[0marr\u001b[0m\u001b[1;33m.\u001b[0m\u001b[0mtoString\u001b[0m\u001b[1;33m(\u001b[0m\u001b[1;33m)\u001b[0m\u001b[1;33m\u001b[0m\u001b[1;33m\u001b[0m\u001b[0m\n\u001b[0m\u001b[0;32m      2\u001b[0m \u001b[0mprint\u001b[0m\u001b[1;33m(\u001b[0m\u001b[0mstr_arr\u001b[0m\u001b[1;33m)\u001b[0m\u001b[1;33m\u001b[0m\u001b[1;33m\u001b[0m\u001b[0m\n\u001b[0;32m      3\u001b[0m \u001b[0mint_arr\u001b[0m \u001b[1;33m=\u001b[0m \u001b[0marray\u001b[0m\u001b[1;33m(\u001b[0m\u001b[1;34m'i'\u001b[0m\u001b[1;33m)\u001b[0m\u001b[1;33m\u001b[0m\u001b[1;33m\u001b[0m\u001b[0m\n\u001b[0;32m      4\u001b[0m \u001b[0mint_arr\u001b[0m\u001b[1;33m.\u001b[0m\u001b[0mfromstring\u001b[0m\u001b[1;33m(\u001b[0m\u001b[0mstr_arr\u001b[0m\u001b[1;33m)\u001b[0m\u001b[1;33m\u001b[0m\u001b[1;33m\u001b[0m\u001b[0m\n\u001b[0;32m      5\u001b[0m \u001b[0mprint\u001b[0m\u001b[1;33m(\u001b[0m\u001b[0mint_arr\u001b[0m\u001b[1;33m)\u001b[0m\u001b[1;33m\u001b[0m\u001b[1;33m\u001b[0m\u001b[0m\n",
      "\u001b[1;31mAttributeError\u001b[0m: 'array.array' object has no attribute 'toString'"
     ]
    }
   ],
   "source": [
    "str_arr = arr.tostring()\n",
    "print(str_arr)\n",
    "int_arr = array('i')\n",
    "int_arr.fromstring(str_arr)\n",
    "print(int_arr)"
   ]
  },
  {
   "cell_type": "code",
   "execution_count": null,
   "id": "c152b5a2",
   "metadata": {},
   "outputs": [],
   "source": []
  }
 ],
 "metadata": {
  "kernelspec": {
   "display_name": "Python 3 (ipykernel)",
   "language": "python",
   "name": "python3"
  },
  "language_info": {
   "codemirror_mode": {
    "name": "ipython",
    "version": 3
   },
   "file_extension": ".py",
   "mimetype": "text/x-python",
   "name": "python",
   "nbconvert_exporter": "python",
   "pygments_lexer": "ipython3",
   "version": "3.9.8"
  }
 },
 "nbformat": 4,
 "nbformat_minor": 5
}
